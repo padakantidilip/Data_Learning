{
 "cells": [
  {
   "cell_type": "markdown",
   "id": "84c243d4",
   "metadata": {},
   "source": [
    "#Load Libraries"
   ]
  },
  {
   "cell_type": "markdown",
   "id": "dbb1c4df",
   "metadata": {},
   "source": []
  }
 ],
 "metadata": {
  "language_info": {
   "name": "python"
  }
 },
 "nbformat": 4,
 "nbformat_minor": 5
}
