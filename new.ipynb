{
 "cells": [
  {
   "cell_type": "markdown",
   "id": "84c243d4",
   "metadata": {},
   "source": []
  }
 ],
 "metadata": {
  "language_info": {
   "name": "python"
  }
 },
 "nbformat": 4,
 "nbformat_minor": 5
}
